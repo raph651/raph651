{
 "cells": [
  {
   "cell_type": "code",
   "execution_count": null,
   "id": "43e602fa",
   "metadata": {},
   "outputs": [],
   "source": [
    "#!pip install -U -q ipywidgets\n",
    "#!jupyter nbextension enable --py widgetsnbextension"
   ]
  },
  {
   "cell_type": "code",
   "execution_count": null,
   "id": "8d0d54fd",
   "metadata": {},
   "outputs": [],
   "source": [
    "#import numpy as np\n",
    "#import pandas as pd\n",
    "#import scipy\n",
    "#import ipywidgets as widgets\n",
    "# import IPython.display as ipd\n",
    "# from IPython.display import HTML\n",
    "# #import os\n",
    "# #import librosa\n",
    "# #import warnings\n",
    "\n",
    "import interact_with_user\n",
    "# from ipywidgets import interact, interact_manual\n",
    "from IPython.display import Image, display, HTML, Audio, clear_output"
   ]
  },
  {
   "cell_type": "code",
   "execution_count": null,
   "id": "aead6d1f",
   "metadata": {},
   "outputs": [],
   "source": [
    "display(HTML(\"<h3>Hi there, I'm the musical robot. Nice to meet you!<br><br>If you want to know the genre of the music, please go ahead and upload your music/audio file below.<h3>\" ))\n",
    "\n",
    "robot=interact_with_user.Interactive()\n",
    "uploader,output=robot.uploader()\n",
    "def on_upload_change(change):\n",
    "    output.clear_output(wait=True);\n",
    "    clear_output(wait=True)\n",
    "    robot.save_file(uploader)\n",
    "    \n",
    "    robot.if_play_songs_first()\n",
    "\n",
    "uploader.observe(on_upload_change, names='value')"
   ]
  },
  {
   "cell_type": "code",
   "execution_count": null,
   "id": "5ef87cb9",
   "metadata": {},
   "outputs": [],
   "source": []
  },
  {
   "cell_type": "code",
   "execution_count": null,
   "id": "ddf17708",
   "metadata": {},
   "outputs": [],
   "source": []
  }
 ],
 "metadata": {
  "kernelspec": {
   "display_name": "Python 3",
   "language": "python",
   "name": "python3"
  },
  "language_info": {
   "codemirror_mode": {
    "name": "ipython",
    "version": 3
   },
   "file_extension": ".py",
   "mimetype": "text/x-python",
   "name": "python",
   "nbconvert_exporter": "python",
   "pygments_lexer": "ipython3",
   "version": "3.8.8"
  },
  "latex_envs": {
   "LaTeX_envs_menu_present": true,
   "autoclose": true,
   "autocomplete": true,
   "bibliofile": "biblio.bib",
   "cite_by": "apalike",
   "current_citInitial": 1,
   "eqLabelWithNumbers": false,
   "eqNumInitial": 1,
   "hotkeys": {
    "equation": "Ctrl-E",
    "itemize": "Ctrl-I"
   },
   "labels_anchors": false,
   "latex_user_defs": false,
   "report_style_numbering": false,
   "user_envs_cfg": false
  },
  "toc": {
   "base_numbering": 1,
   "nav_menu": {},
   "number_sections": true,
   "sideBar": true,
   "skip_h1_title": false,
   "title_cell": "Table of Contents",
   "title_sidebar": "Contents",
   "toc_cell": false,
   "toc_position": {},
   "toc_section_display": true,
   "toc_window_display": false
  }
 },
 "nbformat": 4,
 "nbformat_minor": 5
}
